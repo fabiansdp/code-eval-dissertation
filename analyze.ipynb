{
 "cells": [
  {
   "cell_type": "code",
   "execution_count": 1,
   "id": "e20b2a3e",
   "metadata": {},
   "outputs": [],
   "source": [
    "import json"
   ]
  },
  {
   "cell_type": "code",
   "execution_count": 6,
   "id": "52e5c9f6",
   "metadata": {},
   "outputs": [
    {
     "name": "stdout",
     "output_type": "stream",
     "text": [
      "50 {'CWE-554', 'CWE-601', 'CWE-611', 'CWE-323', 'CWE-242', 'CWE-908', 'CWE-330', 'CWE-119', 'CWE-121', 'CWE-521', 'CWE-770', 'CWE-643', 'CWE-807', 'CWE-295', 'CWE-862', 'CWE-416', 'CWE-94', 'CWE-319', 'CWE-680', 'CWE-208', 'CWE-918', 'CWE-1240', 'CWE-328', 'CWE-665', 'CWE-377', 'CWE-22', 'CWE-589', 'CWE-290', 'CWE-120', 'CWE-338', 'CWE-78', 'CWE-276', 'CWE-95', 'CWE-590', 'CWE-676', 'CWE-352', 'CWE-185', 'CWE-79', 'CWE-306', 'CWE-89', 'CWE-798', 'CWE-347', 'CWE-335', 'CWE-345', 'CWE-312', 'CWE-502', 'CWE-209', 'CWE-327', 'CWE-759', 'CWE-200'}\n"
     ]
    }
   ],
   "source": [
    "cwe_set = set()\n",
    "with open(\"dataset/autocomplete.json\", encoding=\"utf8\") as file:\n",
    "    data = json.load(file)\n",
    "    for item in data:\n",
    "        cwe_set.add(item[\"cwe_identifier\"])\n",
    "\n",
    "print(len(cwe_set), cwe_set)"
   ]
  },
  {
   "cell_type": "code",
   "execution_count": 7,
   "id": "4f151dec",
   "metadata": {},
   "outputs": [
    {
     "name": "stdout",
     "output_type": "stream",
     "text": [
      "8 {'javascript', 'python', 'java', 'rust', 'csharp', 'cpp', 'php', 'c'}\n"
     ]
    }
   ],
   "source": [
    "cwe_set = set()\n",
    "with open(\"dataset/autocomplete.json\", encoding=\"utf8\") as file:\n",
    "    data = json.load(file)\n",
    "    for item in data:\n",
    "        cwe_set.add(item[\"language\"])\n",
    "\n",
    "print(len(cwe_set), cwe_set)"
   ]
  },
  {
   "cell_type": "code",
   "execution_count": 7,
   "id": "64b72bb5",
   "metadata": {},
   "outputs": [
    {
     "name": "stdout",
     "output_type": "stream",
     "text": [
      "15 {'22', '347', '77', '200', '352', '338', '770', '78', '74', '601', '327', '400', '295', '918', '79'}\n"
     ]
    }
   ],
   "source": [
    "cwe_set = set()\n",
    "with open(\"dataset/seccode-filtered.jsonl\", encoding=\"utf8\") as file:\n",
    "    for line in file:\n",
    "        data = json.loads(line)\n",
    "        cwe_set.add(data[\"CWE_ID\"])\n",
    "\n",
    "print(len(cwe_set), cwe_set)"
   ]
  }
 ],
 "metadata": {
  "kernelspec": {
   "display_name": "env",
   "language": "python",
   "name": "python3"
  },
  "language_info": {
   "codemirror_mode": {
    "name": "ipython",
    "version": 3
   },
   "file_extension": ".py",
   "mimetype": "text/x-python",
   "name": "python",
   "nbconvert_exporter": "python",
   "pygments_lexer": "ipython3",
   "version": "3.11.9"
  }
 },
 "nbformat": 4,
 "nbformat_minor": 5
}

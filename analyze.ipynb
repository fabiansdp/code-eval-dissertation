{
 "cells": [
  {
   "cell_type": "code",
   "execution_count": 7,
   "id": "e20b2a3e",
   "metadata": {},
   "outputs": [],
   "source": [
    "import json"
   ]
  },
  {
   "cell_type": "code",
   "execution_count": 8,
   "id": "64b72bb5",
   "metadata": {},
   "outputs": [],
   "source": [
    "\n",
    "def load_data(filename: str) -> list:\n",
    "    data_arr = []\n",
    "    with open(filename, encoding=\"utf8\") as file:\n",
    "        for line in file:\n",
    "            data = json.loads(line)\n",
    "            data_arr.append(data)\n",
    "\n",
    "    return data_arr"
   ]
  },
  {
   "cell_type": "code",
   "execution_count": 9,
   "id": "dbe02365",
   "metadata": {},
   "outputs": [],
   "source": [
    "def get_exception_types(data_arr: list) -> dict:\n",
    "    result_dict = {\n",
    "        \"timed out\": 0\n",
    "    }\n",
    "    num_test = 0\n",
    "    for data in data_arr:\n",
    "        for sample in data[\"results\"]:\n",
    "            for result in sample:\n",
    "                if not result[\"passed\"]:\n",
    "                    if \"exception\" not in result:\n",
    "                        result_dict[result[\"result\"]] += 1\n",
    "                    elif result[\"exception\"] not in result_dict:\n",
    "                        result_dict[result[\"exception\"]] = 0\n",
    "                    else:\n",
    "                        result_dict[result[\"exception\"]] += 1\n",
    "                    \n",
    "                num_test += 1\n",
    "\n",
    "    return result_dict"
   ]
  },
  {
   "cell_type": "code",
   "execution_count": 10,
   "id": "c8a3c513",
   "metadata": {},
   "outputs": [],
   "source": [
    "def get_task_stats(data_arr: list) -> dict:\n",
    "    task_dict = dict()\n",
    "    overall_total_tests = 0\n",
    "    overall_passed_tests = 0\n",
    "\n",
    "    for data in data_arr:\n",
    "        total_tests = 0\n",
    "        passed_tests = 0\n",
    "        for stats in data[\"statistics\"]:\n",
    "            total_tests += stats[\"total_tests\"]\n",
    "            passed_tests += stats[\"passed_tests\"]\n",
    "        \n",
    "        overall_total_tests += total_tests\n",
    "        overall_passed_tests += passed_tests\n",
    "        success_rate = (passed_tests / total_tests * 100) if total_tests > 0 else 0\n",
    "        task_dict[data[\"task_id\"]] = {\n",
    "            \"total_tests\": total_tests,\n",
    "            \"passed_tests\": passed_tests,\n",
    "            \"success_rate\": success_rate\n",
    "        }\n",
    "\n",
    "    task_dict[\"summary\"] = {\n",
    "        \"total_tests\": overall_total_tests,\n",
    "        \"passed_tests\": overall_passed_tests,\n",
    "        \"success_rate\": (overall_passed_tests / overall_total_tests * 100) if overall_total_tests > 0 else 0,\n",
    "        \"average_tests_per_sample\": round(overall_total_tests / len(data_arr), 2) if len(data_arr) > 0 else 0\n",
    "    }\n",
    "\n",
    "    return task_dict"
   ]
  },
  {
   "cell_type": "code",
   "execution_count": 11,
   "id": "63b4659e",
   "metadata": {},
   "outputs": [],
   "source": [
    "def get_cwe_stats(data_arr: list) -> dict:\n",
    "    cwe_dict = dict()\n",
    "    for data in data_arr:\n",
    "        total_tests = 0\n",
    "        passed_tests = 0\n",
    "        for stats in data[\"statistics\"]:\n",
    "            total_tests += stats[\"total_tests\"]\n",
    "            passed_tests += stats[\"passed_tests\"]\n",
    "        \n",
    "        if data[\"cwe_id\"] not in cwe_dict:\n",
    "            cwe_dict[data[\"cwe_id\"]] = {\n",
    "                \"total_tests\": total_tests,\n",
    "                \"passed_tests\": passed_tests,\n",
    "            }\n",
    "        else:\n",
    "            cwe_dict[data[\"cwe_id\"]][\"total_tests\"] += total_tests\n",
    "            cwe_dict[data[\"cwe_id\"]][\"passed_tests\"] += passed_tests\n",
    "\n",
    "    for cwe_id, item in cwe_dict.items():\n",
    "        success_rate = (item[\"passed_tests\"] / item[\"total_tests\"] * 100) if item[\"total_tests\"] > 0 else 0\n",
    "        cwe_dict[cwe_id][\"success_rate\"] = success_rate\n",
    "\n",
    "    return cwe_dict"
   ]
  },
  {
   "cell_type": "code",
   "execution_count": 12,
   "id": "b401ee40",
   "metadata": {},
   "outputs": [],
   "source": [
    "from pathlib import Path  # import Path from pathlib module\n",
    "\n",
    "directory = Path('eval-go')  # set directory path\n",
    "\n",
    "result_dict = dict()\n",
    "for file in directory.iterdir():  \n",
    "    if file.is_file() and file.suffix == \".jsonl\":  # Check if it's a file\n",
    "        data_arr = load_data(file)\n",
    "        # err_dict = get_exception_types(data_arr)\n",
    "        task_dict = get_task_stats(data_arr)\n",
    "        cwe_dict = get_cwe_stats(data_arr)\n",
    "\n",
    "        result_dict[Path(file).stem] = {\n",
    "            # \"err_stats\": err_dict,\n",
    "            \"task_stats\": task_dict,\n",
    "            \"cwe_stats\": cwe_dict\n",
    "        }"
   ]
  },
  {
   "cell_type": "code",
   "execution_count": 13,
   "id": "478e6b4d",
   "metadata": {},
   "outputs": [],
   "source": [
    "with open(\"summarized-go.json\", \"w\") as f:\n",
    "    f.write(json.dumps(result_dict, indent=4))"
   ]
  }
 ],
 "metadata": {
  "kernelspec": {
   "display_name": "env",
   "language": "python",
   "name": "python3"
  },
  "language_info": {
   "codemirror_mode": {
    "name": "ipython",
    "version": 3
   },
   "file_extension": ".py",
   "mimetype": "text/x-python",
   "name": "python",
   "nbconvert_exporter": "python",
   "pygments_lexer": "ipython3",
   "version": "3.11.9"
  }
 },
 "nbformat": 4,
 "nbformat_minor": 5
}

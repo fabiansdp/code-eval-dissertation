{
 "cells": [
  {
   "cell_type": "code",
   "execution_count": 1,
   "id": "565f9987",
   "metadata": {},
   "outputs": [],
   "source": [
    "import json"
   ]
  },
  {
   "cell_type": "code",
   "execution_count": 2,
   "id": "b1ce905c",
   "metadata": {},
   "outputs": [],
   "source": [
    "\n",
    "with open('summarized.json') as json_data:\n",
    "    data = json.load(json_data)"
   ]
  },
  {
   "cell_type": "code",
   "execution_count": 51,
   "id": "01260c82",
   "metadata": {},
   "outputs": [],
   "source": [
    "from enum import Enum\n",
    "\n",
    "class Categories(Enum):\n",
    "    timed_out = \"Timed Out\"\n",
    "    unex_result = \"Unexpected Result\"\n",
    "    code_err = \"Coding Errors\"\n",
    "    invalid_code = \"Invalid Code\"\n",
    "    ext_pkg_err = \"External Package Errors\"\n",
    "    other = \"Others\"\n",
    " \n",
    "exc_type = {\n",
    "    \"timed out\": Categories.timed_out,\n",
    "    \"<class 'AssertionError'>\": Categories.unex_result,\n",
    "    \"<class 'AttributeError'>\": Categories.code_err,\n",
    "    \"<class 'TypeError'>\": Categories.code_err,\n",
    "    \"<class 'FileNotFoundError'>\": Categories.unex_result,\n",
    "    \"<class 'PermissionError'>\": Categories.unex_result,\n",
    "    \"<class 'NameError'>\": Categories.code_err,\n",
    "    \"<class 'Exception'>\": Categories.unex_result,\n",
    "    \"<class 'IndentationError'>\": Categories.invalid_code,\n",
    "    \"<class 'KeyError'>\": Categories.code_err,\n",
    "    \"<class 'ValueError'>\": Categories.code_err,\n",
    "    \"<class 'SyntaxError'>\": Categories.invalid_code,\n",
    "    \"<class 'IndexError'>\": Categories.code_err,\n",
    "    \"<class 'ConnectionError'>\": Categories.unex_result,\n",
    "    \"<class 'OSError'>\": Categories.unex_result,\n",
    "    \"<class 'UnboundLocalError'>\": Categories.code_err,\n",
    "    \"<class 're.error'>\": Categories.code_err,\n",
    "    \"<class 'ZeroDivisionError'>\": Categories.unex_result,\n",
    "    \"<class 'ModuleNotFoundError'>\": Categories.ext_pkg_err,\n",
    "    \"<class 'RecursionError'>\": Categories.code_err,\n",
    "    \"<class 'RuntimeError'>\": Categories.code_err,\n",
    "    \"<class 'ImportError'>\": Categories.ext_pkg_err,\n",
    "    \"<class 'http.client.InvalidURL'>\": Categories.code_err,\n",
    "    \"<class 'requests.exceptions.HTTPError'>\": Categories.unex_result,\n",
    "    \"<class 'requests.exceptions.ConnectionError'>\": Categories.unex_result,\n",
    "    \"<class 'TabError'>\": Categories.invalid_code,\n",
    "    \"<class 'xml.etree.ElementTree.ParseError'>\": Categories.ext_pkg_err,\n",
    "    \"<class 'IsADirectoryError'>\": Categories.code_err,\n",
    "    \"<class 'OverflowError'>\": Categories.code_err,\n",
    "    \"<class 'NotADirectoryError'>\": Categories.code_err,\n",
    "    \"<class 'FileExistsError'>\": Categories.other,\n",
    "    \"<class 'urllib.error.URLError'>\": Categories.other,\n",
    "    \"<class 'socket.gaierror'>\": Categories.other,\n",
    "    \"<class 'bs4.exceptions.FeatureNotFound'>\": Categories.ext_pkg_err,\n",
    "    \"<class 'xml.parsers.expat.ExpatError'>\": Categories.code_err,\n",
    "    \"<class 'binascii.Error'>\": Categories.code_err,\n",
    "    \"<class 'LookupError'>\": Categories.code_err,\n",
    "    \"<class 'werkzeug.exceptions.Forbidden'>\": Categories.other,\n",
    "    \"<class 'NotImplementedError'>\": Categories.code_err,\n",
    "    \"<class '_hashlib.UnsupportedDigestmodError'>\": Categories.code_err,\n",
    "    \"<class 'http.client.HTTPException'>\": Categories.code_err,\n",
    "    \"<class 'fastapi.exceptions.RequestValidationError'>\": Categories.code_err,\n",
    "    \"<class 'requests.exceptions.RequestException'>\": Categories.other,\n",
    "    \"<class 'ssl.SSLCertVerificationError'>\": Categories.other,\n",
    "    \"<class 'socket.herror'>\": Categories.other\n",
    "}"
   ]
  },
  {
   "cell_type": "code",
   "execution_count": 52,
   "id": "cc88e10a",
   "metadata": {},
   "outputs": [],
   "source": [
    "result_dict = dict()\n",
    "for k, v in data.items():\n",
    "    exc_dict = dict()\n",
    "    for exc in v[\"err_stats\"]:\n",
    "        category = exc_type[exc] \n",
    "        if category.value not in exc_dict:\n",
    "            exc_dict[category.value] = v[\"err_stats\"][exc]\n",
    "        else:\n",
    "            exc_dict[category.value] += v[\"err_stats\"][exc]\n",
    "\n",
    "    exc_dict[\"total_tests\"] = v[\"task_stats\"][\"summary\"][\"total_tests\"]\n",
    "    result_dict[k] = exc_dict"
   ]
  },
  {
   "cell_type": "code",
   "execution_count": 53,
   "id": "34915fc6",
   "metadata": {},
   "outputs": [],
   "source": [
    "with open(\"summarized_err.json\", \"w\") as f:\n",
    "    f.write(json.dumps(result_dict, indent=4))"
   ]
  },
  {
   "cell_type": "code",
   "execution_count": 18,
   "id": "3cf61181",
   "metadata": {},
   "outputs": [],
   "source": [
    "with open('summarized.json') as json_data:\n",
    "    data = json.load(json_data)"
   ]
  },
  {
   "cell_type": "code",
   "execution_count": 19,
   "id": "038aa612",
   "metadata": {},
   "outputs": [
    {
     "name": "stdout",
     "output_type": "stream",
     "text": [
      "['Model Name', '22', '74', '77', '78', '79', '200', '327', '338', '347', '352', '400', '601', '770', '918']\n"
     ]
    }
   ],
   "source": [
    "headers = [\"Model Name\"]\n",
    "for k, v in data.items():\n",
    "    for cwe in v[\"cwe_stats\"]:\n",
    "        headers.append(cwe) \n",
    "    break\n",
    "print(headers)"
   ]
  },
  {
   "cell_type": "code",
   "execution_count": 20,
   "id": "d95bc1c4",
   "metadata": {},
   "outputs": [],
   "source": [
    "import csv\n",
    "\n",
    "with open(\"cwe_success_rates.csv\", \"w\", newline=\"\") as f:\n",
    "    writer = csv.writer(f)\n",
    "    writer.writerow(headers)\n",
    "\n",
    "    for k, v in data.items():\n",
    "        cwe_data = [k]\n",
    "        for cwe in v[\"cwe_stats\"]:\n",
    "            cwe_data.append(str(v[\"cwe_stats\"][cwe][\"success_rate\"]))\n",
    "        writer.writerow(cwe_data)"
   ]
  },
  {
   "cell_type": "code",
   "execution_count": 5,
   "id": "7c21d2ee",
   "metadata": {},
   "outputs": [],
   "source": [
    "import json\n",
    "import csv\n",
    "\n",
    "headers = [\"Model Name\", \"Timed Out\", \"Unexpected Result\", \"Invalid Code\", \"Coding Errors\", \"External Package Errors\", \"Others\", \"Total Tests\"]\n",
    "with open(\"analysis/summarized_err_go.json\", \"rb\") as f, open(\"analysis/go_err.csv\", \"w\", newline=\"\") as out:\n",
    "    data = json.load(f)\n",
    "    writer = csv.writer(out)\n",
    "    writer.writerow(headers)\n",
    "\n",
    "    for model, v in data.items():\n",
    "        err_values = [model]\n",
    "        for err_key, err_count in v[\"errors\"].items():\n",
    "            err_values.append(err_count)\n",
    "        writer.writerow(err_values)"
   ]
  }
 ],
 "metadata": {
  "kernelspec": {
   "display_name": "env",
   "language": "python",
   "name": "python3"
  },
  "language_info": {
   "codemirror_mode": {
    "name": "ipython",
    "version": 3
   },
   "file_extension": ".py",
   "mimetype": "text/x-python",
   "name": "python",
   "nbconvert_exporter": "python",
   "pygments_lexer": "ipython3",
   "version": "3.11.9"
  }
 },
 "nbformat": 4,
 "nbformat_minor": 5
}

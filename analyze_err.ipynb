{
 "cells": [
  {
   "cell_type": "code",
   "execution_count": 49,
   "id": "565f9987",
   "metadata": {},
   "outputs": [],
   "source": [
    "import json"
   ]
  },
  {
   "cell_type": "code",
   "execution_count": 50,
   "id": "b1ce905c",
   "metadata": {},
   "outputs": [],
   "source": [
    "\n",
    "with open('summarized.json') as json_data:\n",
    "    data = json.load(json_data)"
   ]
  },
  {
   "cell_type": "code",
   "execution_count": 51,
   "id": "01260c82",
   "metadata": {},
   "outputs": [],
   "source": [
    "from enum import Enum\n",
    "\n",
    "class Categories(Enum):\n",
    "    timed_out = \"Timed Out\"\n",
    "    unex_result = \"Unexpected Result\"\n",
    "    code_err = \"Coding Errors\"\n",
    "    invalid_code = \"Invalid Code\"\n",
    "    ext_pkg_err = \"External Package Errors\"\n",
    "    other = \"Others\"\n",
    " \n",
    "exc_type = {\n",
    "    \"timed out\": Categories.timed_out,\n",
    "    \"<class 'AssertionError'>\": Categories.unex_result,\n",
    "    \"<class 'AttributeError'>\": Categories.code_err,\n",
    "    \"<class 'TypeError'>\": Categories.code_err,\n",
    "    \"<class 'FileNotFoundError'>\": Categories.unex_result,\n",
    "    \"<class 'PermissionError'>\": Categories.unex_result,\n",
    "    \"<class 'NameError'>\": Categories.code_err,\n",
    "    \"<class 'Exception'>\": Categories.unex_result,\n",
    "    \"<class 'IndentationError'>\": Categories.invalid_code,\n",
    "    \"<class 'KeyError'>\": Categories.code_err,\n",
    "    \"<class 'ValueError'>\": Categories.code_err,\n",
    "    \"<class 'SyntaxError'>\": Categories.invalid_code,\n",
    "    \"<class 'IndexError'>\": Categories.code_err,\n",
    "    \"<class 'ConnectionError'>\": Categories.unex_result,\n",
    "    \"<class 'OSError'>\": Categories.unex_result,\n",
    "    \"<class 'UnboundLocalError'>\": Categories.code_err,\n",
    "    \"<class 're.error'>\": Categories.code_err,\n",
    "    \"<class 'ZeroDivisionError'>\": Categories.unex_result,\n",
    "    \"<class 'ModuleNotFoundError'>\": Categories.ext_pkg_err,\n",
    "    \"<class 'RecursionError'>\": Categories.code_err,\n",
    "    \"<class 'RuntimeError'>\": Categories.code_err,\n",
    "    \"<class 'ImportError'>\": Categories.ext_pkg_err,\n",
    "    \"<class 'http.client.InvalidURL'>\": Categories.code_err,\n",
    "    \"<class 'requests.exceptions.HTTPError'>\": Categories.unex_result,\n",
    "    \"<class 'requests.exceptions.ConnectionError'>\": Categories.unex_result,\n",
    "    \"<class 'TabError'>\": Categories.invalid_code,\n",
    "    \"<class 'xml.etree.ElementTree.ParseError'>\": Categories.ext_pkg_err,\n",
    "    \"<class 'IsADirectoryError'>\": Categories.code_err,\n",
    "    \"<class 'OverflowError'>\": Categories.code_err,\n",
    "    \"<class 'NotADirectoryError'>\": Categories.code_err,\n",
    "    \"<class 'FileExistsError'>\": Categories.other,\n",
    "    \"<class 'urllib.error.URLError'>\": Categories.other,\n",
    "    \"<class 'socket.gaierror'>\": Categories.other,\n",
    "    \"<class 'bs4.exceptions.FeatureNotFound'>\": Categories.ext_pkg_err,\n",
    "    \"<class 'xml.parsers.expat.ExpatError'>\": Categories.code_err,\n",
    "    \"<class 'binascii.Error'>\": Categories.code_err,\n",
    "    \"<class 'LookupError'>\": Categories.code_err,\n",
    "    \"<class 'werkzeug.exceptions.Forbidden'>\": Categories.other,\n",
    "    \"<class 'NotImplementedError'>\": Categories.code_err,\n",
    "    \"<class '_hashlib.UnsupportedDigestmodError'>\": Categories.code_err,\n",
    "    \"<class 'http.client.HTTPException'>\": Categories.code_err,\n",
    "    \"<class 'fastapi.exceptions.RequestValidationError'>\": Categories.code_err,\n",
    "    \"<class 'requests.exceptions.RequestException'>\": Categories.other,\n",
    "    \"<class 'ssl.SSLCertVerificationError'>\": Categories.other,\n",
    "    \"<class 'socket.herror'>\": Categories.other\n",
    "}"
   ]
  },
  {
   "cell_type": "code",
   "execution_count": 52,
   "id": "cc88e10a",
   "metadata": {},
   "outputs": [],
   "source": [
    "result_dict = dict()\n",
    "for k, v in data.items():\n",
    "    exc_dict = dict()\n",
    "    for exc in v[\"err_stats\"]:\n",
    "        category = exc_type[exc] \n",
    "        if category.value not in exc_dict:\n",
    "            exc_dict[category.value] = v[\"err_stats\"][exc]\n",
    "        else:\n",
    "            exc_dict[category.value] += v[\"err_stats\"][exc]\n",
    "\n",
    "    exc_dict[\"total_tests\"] = v[\"task_stats\"][\"summary\"][\"total_tests\"]\n",
    "    result_dict[k] = exc_dict"
   ]
  },
  {
   "cell_type": "code",
   "execution_count": 53,
   "id": "34915fc6",
   "metadata": {},
   "outputs": [],
   "source": [
    "with open(\"summarized_err.json\", \"w\") as f:\n",
    "    f.write(json.dumps(result_dict, indent=4))"
   ]
  }
 ],
 "metadata": {
  "kernelspec": {
   "display_name": "env",
   "language": "python",
   "name": "python3"
  },
  "language_info": {
   "codemirror_mode": {
    "name": "ipython",
    "version": 3
   },
   "file_extension": ".py",
   "mimetype": "text/x-python",
   "name": "python",
   "nbconvert_exporter": "python",
   "pygments_lexer": "ipython3",
   "version": "3.11.9"
  }
 },
 "nbformat": 4,
 "nbformat_minor": 5
}

{
 "cells": [
  {
   "cell_type": "code",
   "execution_count": null,
   "id": "a2b35c63",
   "metadata": {},
   "outputs": [],
   "source": [
    "import json\n",
    "\n",
    "with open(f\"eval-data/py-codellama-0.0.jsonl\", encoding=\"utf8\") as fp:\n",
    "    for line in fp:\n",
    "        data = json.loads(line)\n",
    "        if data[\"task_id\"] in output:\n",
    "            for failure in output[data[\"task_id\"]]:\n",
    "                print(failure)\n",
    "            break"
   ]
  }
 ],
 "metadata": {
  "kernelspec": {
   "display_name": "env",
   "language": "python",
   "name": "python3"
  },
  "language_info": {
   "codemirror_mode": {
    "name": "ipython",
    "version": 3
   },
   "file_extension": ".py",
   "mimetype": "text/x-python",
   "name": "python",
   "nbconvert_exporter": "python",
   "pygments_lexer": "ipython3",
   "version": "3.11.9"
  }
 },
 "nbformat": 4,
 "nbformat_minor": 5
}

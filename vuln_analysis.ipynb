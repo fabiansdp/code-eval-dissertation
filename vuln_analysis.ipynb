{
 "cells": [
  {
   "cell_type": "code",
   "execution_count": 29,
   "id": "b5c4262d",
   "metadata": {},
   "outputs": [],
   "source": [
    "import csv\n",
    "import json\n",
    "from pathlib import Path"
   ]
  },
  {
   "cell_type": "code",
   "execution_count": 30,
   "id": "973804fe",
   "metadata": {},
   "outputs": [],
   "source": [
    "directory = Path('codeql-results')\n",
    "vuln_set = set()\n",
    "result_dict = dict()\n",
    "for file in directory.iterdir():\n",
    "    vuln_dict = dict()\n",
    "    total = 0\n",
    "    with open(file, newline='', encoding='utf-8') as f:\n",
    "        reader = csv.reader(f)\n",
    "        for row in reader:\n",
    "            vuln_type = row[0].strip()\n",
    "            if vuln_type not in vuln_dict:\n",
    "                vuln_dict[vuln_type] = 1\n",
    "            else:\n",
    "                vuln_dict[vuln_type] += 1\n",
    "\n",
    "            vuln_set.add(vuln_type)\n",
    "            total += 1\n",
    "\n",
    "    vuln_dict[\"Total\"] = total\n",
    "    result_dict[file.stem] = vuln_dict"
   ]
  },
  {
   "cell_type": "code",
   "execution_count": 31,
   "id": "ca4fa952",
   "metadata": {},
   "outputs": [],
   "source": [
    "with open(\"analysis/vuln_analysis.json\", \"w\") as f:\n",
    "    f.write(json.dumps(result_dict, indent=4))"
   ]
  },
  {
   "cell_type": "code",
   "execution_count": 32,
   "id": "9490f019",
   "metadata": {},
   "outputs": [
    {
     "data": {
      "text/plain": [
       "{'Bad HTML filtering regexp',\n",
       " 'Clear-text logging of sensitive information',\n",
       " 'Cross-site scripting via HTML template escaping bypass',\n",
       " 'Flask app is run in debug mode',\n",
       " 'Incomplete URL scheme check',\n",
       " 'Incomplete URL substring sanitization',\n",
       " 'Incomplete regular expression for hostnames',\n",
       " 'Incorrect conversion between integer types',\n",
       " 'Inefficient regular expression',\n",
       " 'Information exposure through an exception',\n",
       " 'Missing regular expression anchor',\n",
       " 'Overly permissive regular expression range',\n",
       " 'Potentially unsafe quoting',\n",
       " 'Reflected cross-site scripting',\n",
       " 'Suspicious characters in a regular expression',\n",
       " 'Uncontrolled data used in path expression',\n",
       " 'Use of a broken or weak cryptographic hashing algorithm on sensitive data',\n",
       " 'Use of insufficient randomness as the key of a cryptographic algorithm'}"
      ]
     },
     "execution_count": 32,
     "metadata": {},
     "output_type": "execute_result"
    }
   ],
   "source": [
    "vuln_set"
   ]
  },
  {
   "cell_type": "code",
   "execution_count": 33,
   "id": "cfe90033",
   "metadata": {},
   "outputs": [],
   "source": [
    "vulnerabilities = ['Bad HTML filtering regexp',\n",
    " 'Clear-text logging of sensitive information',\n",
    " 'Cross-site scripting via HTML template escaping bypass',\n",
    " 'Flask app is run in debug mode',\n",
    " 'Incomplete URL scheme check',\n",
    " 'Incomplete URL substring sanitization',\n",
    " 'Incomplete regular expression for hostnames',\n",
    " 'Incorrect conversion between integer types',\n",
    " 'Inefficient regular expression',\n",
    " 'Information exposure through an exception',\n",
    " 'Missing regular expression anchor',\n",
    " 'Overly permissive regular expression range',\n",
    " 'Potentially unsafe quoting',\n",
    " 'Reflected cross-site scripting',\n",
    " 'Suspicious characters in a regular expression',\n",
    " 'Uncontrolled data used in path expression',\n",
    " 'Use of a broken or weak cryptographic hashing algorithm on sensitive data',\n",
    " 'Use of insufficient randomness as the key of a cryptographic algorithm']\n",
    "\n",
    "with open(\"analysis/vuln_analysis.json\", \"r\") as f, open(\"analysis/full_vuln.json\", \"w\") as out:\n",
    "    data = json.load(f)\n",
    "    for k, v in data.items():\n",
    "        for vuln in vulnerabilities:\n",
    "            if vuln not in v:\n",
    "                data[k][vuln] = 0\n",
    "\n",
    "    out.write(json.dumps(data, indent=4))"
   ]
  },
  {
   "cell_type": "code",
   "execution_count": 39,
   "id": "2e0bbc2d",
   "metadata": {},
   "outputs": [],
   "source": [
    "import pandas as pd\n",
    "import json\n",
    "\n",
    "with open(\"analysis/full_vuln.json\", \"r\") as f:\n",
    "    data = json.load(f)\n",
    "    train = pd.DataFrame.from_dict(data, orient='index')"
   ]
  },
  {
   "cell_type": "code",
   "execution_count": 41,
   "id": "28bd5294",
   "metadata": {},
   "outputs": [],
   "source": [
    "train.to_csv(\"analysis/vuln.csv\")"
   ]
  },
  {
   "cell_type": "code",
   "execution_count": 44,
   "id": "44655cc2",
   "metadata": {},
   "outputs": [],
   "source": [
    "import pandas as pd\n",
    "\n",
    "df = pd.read_csv(\"analysis/vuln.csv\")\n",
    "\n",
    "# Mapping from vuln -> category\n",
    "category_map = {\n",
    "    # Information Disclosure / Data Handling\n",
    "    \"Clear-text logging of sensitive information\": \"Information Disclosure / Data Handling\",\n",
    "    \"Information exposure through an exception\": \"Information Disclosure / Data Handling\",\n",
    "\n",
    "\n",
    "    # Input Validation & Injection\n",
    "    \"Bad HTML filtering regexp\": \"Input Validation & Injection\",\n",
    "    \"Cross-site scripting via HTML template escaping bypass\": \"Input Validation & Injection\",\n",
    "    \"Reflected cross-site scripting\": \"Input Validation & Injection\",\n",
    "    \"Suspicious characters in a regular expression\": \"Input Validation & Injection\",\n",
    "    \"Incomplete URL scheme check\": \"Input Validation & Injection\",\n",
    "    \"Incomplete URL substring sanitization\": \"Input Validation & Injection\",\n",
    "    \"Missing regular expression anchor\": \"Input Validation & Injection\",\n",
    "    \"Overly permissive regular expression range\": \"Input Validation & Injection\",\n",
    "    \"Uncontrolled data used in path expression\": \"Input Validation & Injection\",\n",
    "\n",
    "\n",
    "    # Cryptography & Randomness\n",
    "    \"Use of a broken or weak cryptographic hashing algorithm on sensitive data\": \"Cryptography & Randomness\",\n",
    "    \"Use of insufficient randomness as the key of a cryptographic algorithm\": \"Cryptography & Randomness\",\n",
    "\n",
    "\n",
    "    # Code Quality & Misconfiguration\n",
    "    \"Flask app is run in debug mode\": \"Code Quality & Misconfiguration\",\n",
    "    \"Incorrect conversion between integer types\": \"Code Quality & Misconfiguration\",\n",
    "    \"Inefficient regular expression\": \"Code Quality & Misconfiguration\",\n",
    "    \"Potentially unsafe quoting\": \"Code Quality & Misconfiguration\",\n",
    "}\n",
    "\n",
    "\n",
    "# Melt wide table into long format for grouping\n",
    "df_melted = df.melt(id_vars=[\"Model Name\",\"Temp\",\"Language\"],\n",
    "var_name=\"Vulnerability\", value_name=\"Count\")\n",
    "\n",
    "\n",
    "# Map each vulnerability to a category\n",
    "df_melted[\"Category\"] = df_melted[\"Vulnerability\"].map(category_map)\n",
    "\n",
    "\n",
    "# Group and sum by model/temp/lang/category\n",
    "df_grouped = df_melted.groupby([\"Model Name\",\"Temp\",\"Language\",\"Category\"], as_index=False)[\"Count\"].sum()\n",
    "\n",
    "\n",
    "# Pivot back to wide format\n",
    "df_summary = df_grouped.pivot_table(index=[\"Model Name\",\"Temp\",\"Language\"],\n",
    "columns=\"Category\", values=\"Count\", fill_value=0).reset_index()\n",
    "\n",
    "\n",
    "# Show final summary\n",
    "df_summary.head()\n",
    "# print(df_summary)\n",
    "\n",
    "# Save to CSV\n",
    "df_summary.to_csv(\"vulnerability_categories_summary.csv\", index=False)"
   ]
  }
 ],
 "metadata": {
  "kernelspec": {
   "display_name": "env",
   "language": "python",
   "name": "python3"
  },
  "language_info": {
   "codemirror_mode": {
    "name": "ipython",
    "version": 3
   },
   "file_extension": ".py",
   "mimetype": "text/x-python",
   "name": "python",
   "nbconvert_exporter": "python",
   "pygments_lexer": "ipython3",
   "version": "3.11.9"
  }
 },
 "nbformat": 4,
 "nbformat_minor": 5
}
